{
 "cells": [
  {
   "cell_type": "code",
   "execution_count": 1,
   "metadata": {},
   "outputs": [],
   "source": [
    "import pandas as pd\n",
    "import nltk as nk\n",
    "import numpy as np"
   ]
  },
  {
   "cell_type": "code",
   "execution_count": 3,
   "metadata": {},
   "outputs": [],
   "source": [
    "#metro_lyrics.head()"
   ]
  },
  {
   "cell_type": "code",
   "execution_count": null,
   "metadata": {},
   "outputs": [],
   "source": []
  },
  {
   "cell_type": "code",
   "execution_count": 4,
   "metadata": {},
   "outputs": [],
   "source": [
    "metro_lyrics = pd.read_csv(\"lyrics.csv\", index_col = 'Unnamed: 0')\n",
    "metro_lyrics.columns = map(str.lower, metro_lyrics.columns)\n",
    "song_lyrics = pd.read_csv(\"Song_lyrics.csv\", index_col = 'Unnamed: 0')\n",
    "#del (metro_lyrics['year'])\n",
    "del (song_lyrics['album'])\n",
    "whole_data = metro_lyrics.append(song_lyrics, sort = True)"
   ]
  },
  {
   "cell_type": "code",
   "execution_count": 5,
   "metadata": {},
   "outputs": [
    {
     "data": {
      "text/plain": [
       "(2755, 4)"
      ]
     },
     "execution_count": 5,
     "metadata": {},
     "output_type": "execute_result"
    }
   ],
   "source": [
    "whole_data.shape"
   ]
  },
  {
   "cell_type": "code",
   "execution_count": null,
   "metadata": {},
   "outputs": [],
   "source": []
  },
  {
   "cell_type": "code",
   "execution_count": null,
   "metadata": {},
   "outputs": [],
   "source": []
  },
  {
   "cell_type": "code",
   "execution_count": null,
   "metadata": {},
   "outputs": [],
   "source": []
  },
  {
   "cell_type": "markdown",
   "metadata": {},
   "source": [
    "### Removing genres which have a low number of instances"
   ]
  },
  {
   "cell_type": "code",
   "execution_count": 7,
   "metadata": {},
   "outputs": [],
   "source": [
    "data = whole_data.drop(whole_data[whole_data.genre=='Other'].index)\n",
    "data = data.drop(data[data.genre=='Not Available'].index)\n",
    "data = data.drop(data[data.genre=='Jazz'].index)\n",
    "data = data.drop(data[data.genre=='Folk'].index)\n",
    "data = data.drop(data[data.genre=='R&B'].index)\n",
    "data = data.drop(data[data.genre=='Electronic'].index)\n",
    "data = data.drop(data[data.genre=='Country'].index)\n",
    "data = data.drop(data[data.genre=='Indie'].index)"
   ]
  },
  {
   "cell_type": "code",
   "execution_count": 8,
   "metadata": {},
   "outputs": [
    {
     "data": {
      "text/html": [
       "<div>\n",
       "<style scoped>\n",
       "    .dataframe tbody tr th:only-of-type {\n",
       "        vertical-align: middle;\n",
       "    }\n",
       "\n",
       "    .dataframe tbody tr th {\n",
       "        vertical-align: top;\n",
       "    }\n",
       "\n",
       "    .dataframe thead th {\n",
       "        text-align: right;\n",
       "    }\n",
       "</style>\n",
       "<table border=\"1\" class=\"dataframe\">\n",
       "  <thead>\n",
       "    <tr style=\"text-align: right;\">\n",
       "      <th></th>\n",
       "      <th>artist</th>\n",
       "      <th>lyrics</th>\n",
       "      <th>song</th>\n",
       "    </tr>\n",
       "    <tr>\n",
       "      <th>genre</th>\n",
       "      <th></th>\n",
       "      <th></th>\n",
       "      <th></th>\n",
       "    </tr>\n",
       "  </thead>\n",
       "  <tbody>\n",
       "    <tr>\n",
       "      <th>Hip-Hop</th>\n",
       "      <td>1614</td>\n",
       "      <td>1614</td>\n",
       "      <td>1613</td>\n",
       "    </tr>\n",
       "    <tr>\n",
       "      <th>Pop</th>\n",
       "      <td>98</td>\n",
       "      <td>98</td>\n",
       "      <td>98</td>\n",
       "    </tr>\n",
       "    <tr>\n",
       "      <th>Rock</th>\n",
       "      <td>214</td>\n",
       "      <td>214</td>\n",
       "      <td>214</td>\n",
       "    </tr>\n",
       "  </tbody>\n",
       "</table>\n",
       "</div>"
      ],
      "text/plain": [
       "         artist  lyrics  song\n",
       "genre                        \n",
       "Hip-Hop    1614    1614  1613\n",
       "Pop          98      98    98\n",
       "Rock        214     214   214"
      ]
     },
     "execution_count": 8,
     "metadata": {},
     "output_type": "execute_result"
    }
   ],
   "source": [
    "data.groupby('genre').count()"
   ]
  },
  {
   "cell_type": "code",
   "execution_count": 31,
   "metadata": {},
   "outputs": [
    {
     "data": {
      "text/plain": [
       "(1925, 4)"
      ]
     },
     "execution_count": 31,
     "metadata": {},
     "output_type": "execute_result"
    }
   ],
   "source": [
    "data.shape"
   ]
  },
  {
   "cell_type": "markdown",
   "metadata": {},
   "source": [
    "### Remove stopwords and Stem text"
   ]
  },
  {
   "cell_type": "code",
   "execution_count": 32,
   "metadata": {},
   "outputs": [
    {
     "name": "stderr",
     "output_type": "stream",
     "text": [
      "[nltk_data] Downloading package stopwords to\n",
      "[nltk_data]     /Users/shradhitsubudhi/nltk_data...\n",
      "[nltk_data]   Package stopwords is already up-to-date!\n"
     ]
    },
    {
     "data": {
      "text/plain": [
       "True"
      ]
     },
     "execution_count": 32,
     "metadata": {},
     "output_type": "execute_result"
    }
   ],
   "source": [
    "import nltk\n",
    "from nltk.corpus import stopwords\n",
    "nltk.download('stopwords')\n",
    "#with open('/Users/purvank/Desktop/NLP IIT/Ipython_Notebooks/stopwords.txt') as f:\n",
    "#    lines = f.read().splitlines()"
   ]
  },
  {
   "cell_type": "code",
   "execution_count": 33,
   "metadata": {},
   "outputs": [],
   "source": [
    "def StopStem(df):\n",
    "    #morestop = set(lines)\n",
    "    stop = set(stopwords.words('english'))\n",
    "    df['lyrics'] = df['lyrics'].apply(lambda x: ' '.join([word for word in x.split() if word not in (stop)]))\n",
    "    #df['lyrics'] = df['lyrics'].apply(lambda x: ' '.join([word for word in x.split() if word not in (morestop)]))\n",
    "    df[\"lyrics\"] = df['lyrics'].str.replace('[^\\w\\s]','')\n",
    "    return df"
   ]
  },
  {
   "cell_type": "code",
   "execution_count": 34,
   "metadata": {},
   "outputs": [],
   "source": [
    "songs = StopStem(data)"
   ]
  },
  {
   "cell_type": "code",
   "execution_count": 35,
   "metadata": {},
   "outputs": [
    {
     "data": {
      "text/html": [
       "<div>\n",
       "<style scoped>\n",
       "    .dataframe tbody tr th:only-of-type {\n",
       "        vertical-align: middle;\n",
       "    }\n",
       "\n",
       "    .dataframe tbody tr th {\n",
       "        vertical-align: top;\n",
       "    }\n",
       "\n",
       "    .dataframe thead th {\n",
       "        text-align: right;\n",
       "    }\n",
       "</style>\n",
       "<table border=\"1\" class=\"dataframe\">\n",
       "  <thead>\n",
       "    <tr style=\"text-align: right;\">\n",
       "      <th></th>\n",
       "      <th>artist</th>\n",
       "      <th>genre</th>\n",
       "      <th>lyrics</th>\n",
       "      <th>song</th>\n",
       "    </tr>\n",
       "  </thead>\n",
       "  <tbody>\n",
       "    <tr>\n",
       "      <th>490</th>\n",
       "      <td>Little Anthony &amp; The Imperials</td>\n",
       "      <td>Rock</td>\n",
       "      <td>Oooh oooo Id move mountain If want Though hard...</td>\n",
       "      <td>So Much</td>\n",
       "    </tr>\n",
       "    <tr>\n",
       "      <th>491</th>\n",
       "      <td>Little Anthony &amp; The Imperials</td>\n",
       "      <td>Rock</td>\n",
       "      <td>Well Im alright alright Im alright yes Im alri...</td>\n",
       "      <td>I'm Alright</td>\n",
       "    </tr>\n",
       "    <tr>\n",
       "      <th>492</th>\n",
       "      <td>Little Anthony &amp; The Imperials</td>\n",
       "      <td>Rock</td>\n",
       "      <td>You remember But I remember Twas long ago You ...</td>\n",
       "      <td>Tears on My Pillow</td>\n",
       "    </tr>\n",
       "    <tr>\n",
       "      <th>493</th>\n",
       "      <td>Little Anthony &amp; The Imperials</td>\n",
       "      <td>Rock</td>\n",
       "      <td>Two People In World Little Anthony Imperials W...</td>\n",
       "      <td>Two People in the World</td>\n",
       "    </tr>\n",
       "    <tr>\n",
       "      <th>494</th>\n",
       "      <td>Little Anthony &amp; The Imperials</td>\n",
       "      <td>Rock</td>\n",
       "      <td>Wishful wishful wishful wishful You believe Bu...</td>\n",
       "      <td>Wishful Thinking</td>\n",
       "    </tr>\n",
       "  </tbody>\n",
       "</table>\n",
       "</div>"
      ],
      "text/plain": [
       "                             artist genre  \\\n",
       "490  Little Anthony & The Imperials  Rock   \n",
       "491  Little Anthony & The Imperials  Rock   \n",
       "492  Little Anthony & The Imperials  Rock   \n",
       "493  Little Anthony & The Imperials  Rock   \n",
       "494  Little Anthony & The Imperials  Rock   \n",
       "\n",
       "                                                lyrics  \\\n",
       "490  Oooh oooo Id move mountain If want Though hard...   \n",
       "491  Well Im alright alright Im alright yes Im alri...   \n",
       "492  You remember But I remember Twas long ago You ...   \n",
       "493  Two People In World Little Anthony Imperials W...   \n",
       "494  Wishful wishful wishful wishful You believe Bu...   \n",
       "\n",
       "                         song  \n",
       "490                  So Much   \n",
       "491              I'm Alright   \n",
       "492       Tears on My Pillow   \n",
       "493  Two People in the World   \n",
       "494         Wishful Thinking   "
      ]
     },
     "execution_count": 35,
     "metadata": {},
     "output_type": "execute_result"
    }
   ],
   "source": [
    "songs.head()"
   ]
  },
  {
   "cell_type": "markdown",
   "metadata": {},
   "source": [
    "### Fix Unicode issues in text :"
   ]
  },
  {
   "cell_type": "code",
   "execution_count": 36,
   "metadata": {},
   "outputs": [],
   "source": [
    "import ftfy\n",
    "def fixUni(df):\n",
    "    df['lyrics'] = df['lyrics'].apply(lambda x: ftfy.fix_text_encoding(x))\n",
    "    #df['lyrics'] = df['lyrics'].apply(lambda x: x if ftfy.badness.sequence_weirdness(x)>0)\n",
    "    return df"
   ]
  },
  {
   "cell_type": "code",
   "execution_count": 37,
   "metadata": {},
   "outputs": [],
   "source": [
    "songs = fixUni(data)"
   ]
  },
  {
   "cell_type": "code",
   "execution_count": 38,
   "metadata": {},
   "outputs": [
    {
     "data": {
      "text/plain": [
       "(1925, 4)"
      ]
     },
     "execution_count": 38,
     "metadata": {},
     "output_type": "execute_result"
    }
   ],
   "source": [
    "songs.shape"
   ]
  },
  {
   "cell_type": "code",
   "execution_count": null,
   "metadata": {},
   "outputs": [],
   "source": []
  },
  {
   "cell_type": "code",
   "execution_count": 39,
   "metadata": {},
   "outputs": [
    {
     "data": {
      "text/plain": [
       "(1925, 4)"
      ]
     },
     "execution_count": 39,
     "metadata": {},
     "output_type": "execute_result"
    }
   ],
   "source": [
    "songs.shape"
   ]
  },
  {
   "cell_type": "markdown",
   "metadata": {},
   "source": [
    "### Removing instances which have a non-english words in lyrics"
   ]
  },
  {
   "cell_type": "code",
   "execution_count": 40,
   "metadata": {},
   "outputs": [],
   "source": [
    "for index,row in songs.lyrics.iteritems():\n",
    "    if(ftfy.badness.sequence_weirdness(row)<0):\n",
    "        songs.lyrics[index] = np.NaN"
   ]
  },
  {
   "cell_type": "code",
   "execution_count": 41,
   "metadata": {},
   "outputs": [],
   "source": [
    "songs.dropna(inplace=True)"
   ]
  },
  {
   "cell_type": "code",
   "execution_count": 42,
   "metadata": {},
   "outputs": [
    {
     "data": {
      "text/plain": [
       "(1925, 4)"
      ]
     },
     "execution_count": 42,
     "metadata": {},
     "output_type": "execute_result"
    }
   ],
   "source": [
    "songs.shape"
   ]
  },
  {
   "cell_type": "markdown",
   "metadata": {},
   "source": [
    "### Removing parenthesis and brackets and removing unimportant words using regular expression."
   ]
  },
  {
   "cell_type": "code",
   "execution_count": 43,
   "metadata": {},
   "outputs": [],
   "source": [
    "def remove_brackets(text):\n",
    "    new_text = re.sub(r'\\(.*?\\)','',text)\n",
    "    new_text = re.sub(r'\\[.*?\\]','',text)\n",
    "    return new_text"
   ]
  },
  {
   "cell_type": "code",
   "execution_count": 44,
   "metadata": {},
   "outputs": [],
   "source": [
    "import re\n",
    "def ReBr(df):\n",
    "        df['lyrics'] = df['lyrics'].apply(remove_brackets)\n",
    "        return df"
   ]
  },
  {
   "cell_type": "code",
   "execution_count": 45,
   "metadata": {},
   "outputs": [],
   "source": [
    "def Chorus(df):\n",
    "    words = ['Chorus','Verse1','Verse2','Verse']\n",
    "    df['lyrics'] = df['lyrics'].apply(lambda x: ' '.join([word for word in x.split() if word not in words]))\n",
    "    return df"
   ]
  },
  {
   "cell_type": "code",
   "execution_count": 46,
   "metadata": {},
   "outputs": [],
   "source": [
    "songs = ReBr(songs)"
   ]
  },
  {
   "cell_type": "code",
   "execution_count": 47,
   "metadata": {},
   "outputs": [],
   "source": [
    "songs = Chorus(songs)"
   ]
  },
  {
   "cell_type": "code",
   "execution_count": 30,
   "metadata": {},
   "outputs": [],
   "source": [
    "songs.to_csv(\"ReallyReallyCleaned.csv\")"
   ]
  },
  {
   "cell_type": "code",
   "execution_count": null,
   "metadata": {},
   "outputs": [],
   "source": []
  }
 ],
 "metadata": {
  "anaconda-cloud": {},
  "kernelspec": {
   "display_name": "Python 3",
   "language": "python",
   "name": "python3"
  },
  "language_info": {
   "codemirror_mode": {
    "name": "ipython",
    "version": 3
   },
   "file_extension": ".py",
   "mimetype": "text/x-python",
   "name": "python",
   "nbconvert_exporter": "python",
   "pygments_lexer": "ipython3",
   "version": "3.7.3"
  }
 },
 "nbformat": 4,
 "nbformat_minor": 1
}
